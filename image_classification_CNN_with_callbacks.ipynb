{
  "nbformat": 4,
  "nbformat_minor": 0,
  "metadata": {
    "colab": {
      "name": "Exercise_3_Question.ipynb",
      "version": "0.3.2",
      "provenance": [],
      "collapsed_sections": [],
      "include_colab_link": true
    },
    "kernelspec": {
      "name": "python3",
      "display_name": "Python 3"
    },
    "accelerator": "GPU"
  },
  "cells": [
    {
      "cell_type": "markdown",
      "metadata": {
        "id": "view-in-github",
        "colab_type": "text"
      },
      "source": [
        "<a href=\"https://colab.research.google.com/github/kamelisl/ML_Examples/blob/master/image_classification_CNN_with_callbacks.ipynb\" target=\"_parent\"><img src=\"https://colab.research.google.com/assets/colab-badge.svg\" alt=\"Open In Colab\"/></a>"
      ]
    },
    {
      "cell_type": "markdown",
      "metadata": {
        "id": "iQjHqsmTAVLU",
        "colab_type": "text"
      },
      "source": [
        "## Exercise 3\n",
        "In the videos you looked at how you would improve Fashion MNIST using Convolutions. For your exercise see if you can improve MNIST to 99.8% accuracy or more using only a single convolutional layer and a single MaxPooling 2D. You should stop training once the accuracy goes above this amount. It should happen in less than 20 epochs, so it's ok to hard code the number of epochs for training, but your training must end once it hits the above metric. If it doesn't, then you'll need to redesign your layers.\n",
        "\n",
        "I've started the code for you -- you need to finish it!\n",
        "\n",
        "When 99.8% accuracy has been hit, you should print out the string \"Reached 99.8% accuracy so cancelling training!\"\n"
      ]
    },
    {
      "cell_type": "code",
      "metadata": {
        "id": "sfQRyaJWAIdg",
        "colab_type": "code",
        "colab": {
          "base_uri": "https://localhost:8080/",
          "height": 340
        },
        "outputId": "50f1debe-674d-4d9a-f53b-c5722127d1dd"
      },
      "source": [
        "import tensorflow as tf\n",
        "\n",
        "class myCallback(tf.keras.callbacks.Callback):\n",
        "  def on_epoch_end(self, epoch, logs={}):\n",
        "    if(logs.get('acc')>0.998):\n",
        "      print(\"\\nReached 99.8% accuracy so cancelling training!\")\n",
        "      self.model.stop_training = True\n",
        "\n",
        "callbacks = myCallback()\n",
        "mnist = tf.keras.datasets.mnist\n",
        "(training_images, training_labels), (test_images, test_labels) = mnist.load_data()\n",
        "\n",
        "training_images = training_images.reshape(60000,28,28,1)\n",
        "training_images=training_images/255.0\n",
        "test_images = test_images.reshape(10000,28,28,1)\n",
        "test_images=test_images/255.0\n",
        "\n",
        "model = tf.keras.models.Sequential([\n",
        "    tf.keras.layers.Conv2D(64, (3,3), activation='relu', input_shape=(28,28,1)),\n",
        "    tf.keras.layers.MaxPooling2D(2,2),\n",
        "    tf.keras.layers.Flatten(),\n",
        "    tf.keras.layers.Dense(128, activation='relu'),\n",
        "    tf.keras.layers.Dense(10, activation='softmax')\n",
        "])\n",
        "\n",
        "model.compile(optimizer='adam', loss='sparse_categorical_crossentropy', metrics=['accuracy'])\n",
        "model.fit(training_images, training_labels, epochs=20, callbacks=[callbacks])\n",
        "test_loss = model.evaluate(test_images, test_labels)\n"
      ],
      "execution_count": 2,
      "outputs": [
        {
          "output_type": "stream",
          "text": [
            "Epoch 1/20\n",
            "60000/60000 [==============================] - 9s 153us/sample - loss: 0.1349 - acc: 0.9588\n",
            "Epoch 2/20\n",
            "60000/60000 [==============================] - 7s 119us/sample - loss: 0.0477 - acc: 0.9851\n",
            "Epoch 3/20\n",
            "60000/60000 [==============================] - 7s 118us/sample - loss: 0.0279 - acc: 0.9913\n",
            "Epoch 4/20\n",
            "60000/60000 [==============================] - 7s 118us/sample - loss: 0.0192 - acc: 0.9937\n",
            "Epoch 5/20\n",
            "60000/60000 [==============================] - 7s 119us/sample - loss: 0.0122 - acc: 0.9961\n",
            "Epoch 6/20\n",
            "60000/60000 [==============================] - 7s 118us/sample - loss: 0.0098 - acc: 0.9966\n",
            "Epoch 7/20\n",
            "60000/60000 [==============================] - 7s 118us/sample - loss: 0.0074 - acc: 0.9977\n",
            "Epoch 8/20\n",
            "59744/60000 [============================>.] - ETA: 0s - loss: 0.0060 - acc: 0.9982\n",
            "Reached 99.8% accuracy so cancelling training!\n",
            "60000/60000 [==============================] - 7s 118us/sample - loss: 0.0060 - acc: 0.9982\n",
            "10000/10000 [==============================] - 1s 54us/sample - loss: 0.0690 - acc: 0.9836\n"
          ],
          "name": "stdout"
        }
      ]
    },
    {
      "cell_type": "code",
      "metadata": {
        "id": "KG8afwK6A5AI",
        "colab_type": "code",
        "colab": {}
      },
      "source": [
        ""
      ],
      "execution_count": 0,
      "outputs": []
    }
  ]
}